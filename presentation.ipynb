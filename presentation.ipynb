{
 "cells": [
  {
   "cell_type": "markdown",
   "source": [
    "Hola, soy Rafael y estoy aprendiendo a usar GitHub"
   ],
   "metadata": {
    "collapsed": false
   },
   "id": "a8229c42ec1472de"
  }
 ],
 "metadata": {
  "kernelspec": {
   "display_name": "Python 3",
   "language": "python",
   "name": "python3"
  },
  "language_info": {
   "codemirror_mode": {
    "name": "ipython",
    "version": 2
   },
   "file_extension": ".py",
   "mimetype": "text/x-python",
   "name": "python",
   "nbconvert_exporter": "python",
   "pygments_lexer": "ipython2",
   "version": "2.7.6"
  }
 },
 "nbformat": 4,
 "nbformat_minor": 5
}
